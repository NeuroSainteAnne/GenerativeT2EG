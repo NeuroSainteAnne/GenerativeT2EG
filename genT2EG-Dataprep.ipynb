{
 "cells": [
  {
   "cell_type": "markdown",
   "metadata": {},
   "source": [
    "# Dataprep\n",
    "\n",
    "### Objective\n",
    "\n",
    "Crawls through raw_data directory and converts diffusion and T2EG into a data array \n",
    "\n",
    "### Prerequisites\n",
    "\n",
    "All diffusion and T2EG should be registrated and put in a NIFTI file format.\n",
    "\n",
    "### Data organisation\n",
    "\n",
    "- All b0 diffusion should be named \"patientid_sX_DWIb0.nii.gz\" where \"sX\" corresponds to time delay and can be \"s0\" or \"s1\" (to stratify on stroke/hemorrhage)\n",
    "- All b1000 diffusion should be named \"patientid_sX_DWIb1000.nii.gz\" where \"sX\" corresponds to time delay and can be \"s0\" or \"s1\" (to stratify on stroke/hemorrhage)\n",
    "- All corresponding T2EG sequences should be named: \"patientid_sX_qX_t2eg.nii.gz\" where \"qX\" corresponds to quality and can be \"q0\" to \"q3\" (to stratify on quality)\n",
    "- A mask \"patientid_hX_MASK.nii.gz\" with 3 binary dimensions : 0 (brain mask) and 1 (stroke region) and 2 (hemorrhage region)"
   ]
  },
  {
   "cell_type": "markdown",
   "metadata": {},
   "source": [
    "## Load modules"
   ]
  },
  {
   "cell_type": "code",
   "execution_count": null,
   "metadata": {},
   "outputs": [],
   "source": [
    "import os, glob, h5py\n",
    "import numpy as np\n",
    "from skimage.morphology import dilation, opening\n",
    "from modules.niftitools import twoniftis2array, t2egnifti2array, masknifti2array"
   ]
  },
  {
   "cell_type": "markdown",
   "metadata": {},
   "source": [
    "## Crawl through files"
   ]
  },
  {
   "cell_type": "code",
   "execution_count": null,
   "metadata": {},
   "outputs": [],
   "source": [
    "dwifiles_precheck = glob.glob(os.path.join(\"raw_data\", \"*_DWIb0.nii.gz\"))\n",
    "patnames, strokehemorrs, qualities, b0files, b1000files, t2egfiles, maskfiles = [], [], [], [], [], [], []\n",
    "num_patients = 0\n",
    "total_slices = 0\n",
    "for dwifile in dwifiles_precheck:\n",
    "    name, strokehemorr, _ = os.path.basename(dwifile).split(\"_\")\n",
    "    strokehemorr = int(timepoint.replace(\"s\",\"\"))\n",
    "    matchesb1000 = glob.glob(os.path.join(\"raw_data\", name+\"_h\"+str(timepoint)+\"_DWIb1000.nii.gz\"))\n",
    "    matchest2eg = glob.glob(os.path.join(\"raw_data\", name+\"_h\"+str(timepoint)+\"_q*_t2eg.nii.gz\"))\n",
    "    if len(matchest2eg) and len(matchesb1000):\n",
    "        _, _, quality, _ = os.path.basename(matchest2eg[0]).split(\"_\")\n",
    "        patnames.append(name)\n",
    "        strokehemorrs.append(timepoint)\n",
    "        qualities.append(int(quality.replace(\"q\",\"\")))\n",
    "        b0files.append(dwifile)\n",
    "        b1000files.append(matchesb1000[0])\n",
    "        t2egfiles.append(matchest2eg[0])\n",
    "        matchesMask = glob.glob(os.path.join(\"raw_data\", name+\"_h\"+str(timepoint)+\"_MASK.nii.gz\"))\n",
    "        if len(matchesMask):\n",
    "            maskfiles.append(matchesMask[0])\n",
    "        else:\n",
    "            maskfiles.append(None)\n",
    "        num_patients += 1\n",
    "        total_slices += np.squeeze(nib.load(dwifile).get_fdata()).shape[2]"
   ]
  },
  {
   "cell_type": "markdown",
   "metadata": {},
   "source": [
    "## Create data arrays"
   ]
  },
  {
   "cell_type": "code",
   "execution_count": null,
   "metadata": {},
   "outputs": [],
   "source": [
    "\n",
    "outputdir = \"data\""
   ]
  },
  {
   "cell_type": "code",
   "execution_count": null,
   "metadata": {},
   "outputs": [],
   "source": [
    "with h5py.File(os.path.join(outputdir,\"metadata.hdf5\"), \"w\") as metadata:\n",
    "    metadata.create_dataset(\"patientnames\", data=np.array(patnames, dtype=\"S\"))\n",
    "    metadata.create_dataset(\"shape_x\", data=(total_slices,256,256,3))\n",
    "    metadata.create_dataset(\"shape_y\", data=(total_slices,256,256,1))\n",
    "    metadata.create_dataset(\"shape_mask\", data=(total_slices,256,256,3))\n",
    "    metadata.create_dataset(\"shape_meta\", data=(total_slices,4))"
   ]
  },
  {
   "cell_type": "code",
   "execution_count": null,
   "metadata": {},
   "outputs": [],
   "source": [
    "fx = np.memmap(os.path.join(outputdir,\"data_x.dat\"), dtype=\"float32\", mode=\"w+\",\n",
    "               shape=(z_slices,256,256,3))\n",
    "fy = np.memmap(os.path.join(outputdir,\"data_y.dat\"), dtype=\"float32\", mode=\"w+\",\n",
    "               shape=(z_slices,256,256,1))\n",
    "fmask = np.memmap(os.path.join(outputdir,\"data_mask.dat\"), dtype=\"int8\", mode=\"w+\",\n",
    "               shape=(z_slices,256,256,1))\n",
    "fmeta = np.memmap(os.path.join(outputdir,\"data_meta.dat\"), dtype=\"float32\", mode=\"w+\",\n",
    "               shape=(z_slices,4))\n",
    "\n",
    "if num_patients > 0:\n",
    "    print(\"Imported following patients:\", end=\" \")\n",
    "\n",
    "current_begin_slice = 0\n",
    "for i in range(num_patients):\n",
    "    if i>0:\n",
    "        print(\", \",end=\"\")\n",
    "    Xdata, mask, _ = twoniftis2array(b0files[i], b1000files[i],z_slices)\n",
    "    curlen = Xdata.shape[2]\n",
    "    Xdata = Xdata.transpose(1,2,3,0)\n",
    "    fx[current_begin_slice+curlen] = Xdata\n",
    "    if maskfiles[i] is not None:\n",
    "        fmask[current_begin_slice+curlen] = masknifti2array(maskfiles[i])[...,np.newaxis]\n",
    "    else:\n",
    "        crudemask = dilation(dilation(dilation(opening(np.logical_and(mask, Xdata[...,2]<600)))))\n",
    "        crudemask = crudemask.astype(\"int8\") + mask.astype(\"int8\")\n",
    "        fmask[current_begin_slice+curlen,0] = mask[...,np.newaxis]\n",
    "        fmask[current_begin_slice+curlen,1] = crudemask[...,np.newaxis]\n",
    "    fy[current_begin_slice+curlen] = t2egnifti2array(t2egfiles[i],mask,z_slices)[...,np.newaxis]\n",
    "    fmeta[current_begin_slice+curlen,0] = qualities[i]\n",
    "    fmeta[current_begin_slice+curlen,1] = np.arange(curlen)\n",
    "    fmeta[current_begin_slice+curlen,2] = qualities[i]\n",
    "    fmeta[current_begin_slice+curlen,3] = timepoints[i]\n",
    "    print(name, end=\"\")\n",
    "    \n",
    "del fx, fy, fmask, fmeta"
   ]
  },
  {
   "cell_type": "code",
   "execution_count": null,
   "metadata": {},
   "outputs": [],
   "source": []
  }
 ],
 "metadata": {
  "kernelspec": {
   "display_name": "Python 3 (ipykernel)",
   "language": "python",
   "name": "python3"
  },
  "language_info": {
   "codemirror_mode": {
    "name": "ipython",
    "version": 3
   },
   "file_extension": ".py",
   "mimetype": "text/x-python",
   "name": "python",
   "nbconvert_exporter": "python",
   "pygments_lexer": "ipython3",
   "version": "3.10.12"
  }
 },
 "nbformat": 4,
 "nbformat_minor": 4
}
